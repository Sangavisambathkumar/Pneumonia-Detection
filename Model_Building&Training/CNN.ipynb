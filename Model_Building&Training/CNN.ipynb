{
  "cells": [
    {
      "cell_type": "code",
      "execution_count": null,
      "metadata": {
        "colab": {
          "base_uri": "https://localhost:8080/",
          "height": 35
        },
        "id": "avqqnEjRK-xZ",
        "outputId": "57b09267-448a-4cf4-9451-85e7436d5b54"
      },
      "outputs": [
        {
          "data": {
            "application/vnd.google.colaboratory.intrinsic+json": {
              "type": "string"
            },
            "text/plain": [
              "'/device:GPU:0'"
            ]
          },
          "execution_count": 55,
          "metadata": {},
          "output_type": "execute_result"
        }
      ],
      "source": [
        "device = tf.test.gpu_device_name()\n",
        "device"
      ]
    },
    {
      "cell_type": "code",
      "execution_count": null,
      "metadata": {
        "id": "mNOpBuBGMVHD"
      },
      "outputs": [],
      "source": [
        "# CNN MODEL- conv-batch-maxpool-dropout\n",
        "\n",
        "classifier=Sequential()\n",
        "classifier.add(Conv2D(32, kernel_size=3, activation=\"relu\", input_shape=(200,200,3)))\n",
        "classifier.add(BatchNormalization())\n",
        "classifier.add(MaxPooling2D(strides=(2,2)))\n",
        "classifier.add(Dropout(.3))\n",
        "\n",
        "classifier.add(Conv2D(32, kernel_size=3, activation=\"relu\"))\n",
        "classifier.add(BatchNormalization())\n",
        "classifier.add(MaxPooling2D(strides=(2,2)))\n",
        "classifier.add(Dropout(.5))\n",
        "\n",
        "classifier.add(Conv2D(64, kernel_size=3, activation=\"relu\"))\n",
        "classifier.add(BatchNormalization())\n",
        "classifier.add(MaxPooling2D(strides=(2,2)))\n",
        "classifier.add(Dropout(.4))\n",
        "\n",
        "classifier.add(Conv2D(64, kernel_size=3, activation=\"relu\"))\n",
        "classifier.add(BatchNormalization())\n",
        "classifier.add(MaxPooling2D(strides=(2,2)))\n",
        "classifier.add(Dropout(.3))\n",
        "\n",
        "classifier.add(Flatten())\n",
        "classifier.add(Dense(512,activation=\"relu\"))\n",
        "classifier.add(Dense(128,activation=\"relu\"))\n",
        "classifier.add(Dropout(.4))\n",
        "\n",
        "classifier.add(Dense(3, activation=\"softmax\"))"
      ]
    },
    {
      "cell_type": "code",
      "execution_count": null,
      "metadata": {
        "colab": {
          "base_uri": "https://localhost:8080/"
        },
        "id": "SooJWYsjUckM",
        "outputId": "280013d2-60fd-4999-dc92-4eb6ae069611"
      },
      "outputs": [
        {
          "name": "stdout",
          "output_type": "stream",
          "text": [
            "Model: \"sequential\"\n",
            "_________________________________________________________________\n",
            " Layer (type)                Output Shape              Param #   \n",
            "=================================================================\n",
            " conv2d (Conv2D)             (None, 198, 198, 32)      896       \n",
            "                                                                 \n",
            " batch_normalization (Batch  (None, 198, 198, 32)      128       \n",
            " Normalization)                                                  \n",
            "                                                                 \n",
            " max_pooling2d (MaxPooling2  (None, 99, 99, 32)        0         \n",
            " D)                                                              \n",
            "                                                                 \n",
            " dropout (Dropout)           (None, 99, 99, 32)        0         \n",
            "                                                                 \n",
            " conv2d_1 (Conv2D)           (None, 97, 97, 32)        9248      \n",
            "                                                                 \n",
            " batch_normalization_1 (Bat  (None, 97, 97, 32)        128       \n",
            " chNormalization)                                                \n",
            "                                                                 \n",
            " max_pooling2d_1 (MaxPoolin  (None, 48, 48, 32)        0         \n",
            " g2D)                                                            \n",
            "                                                                 \n",
            " dropout_1 (Dropout)         (None, 48, 48, 32)        0         \n",
            "                                                                 \n",
            " conv2d_2 (Conv2D)           (None, 46, 46, 64)        18496     \n",
            "                                                                 \n",
            " batch_normalization_2 (Bat  (None, 46, 46, 64)        256       \n",
            " chNormalization)                                                \n",
            "                                                                 \n",
            " max_pooling2d_2 (MaxPoolin  (None, 23, 23, 64)        0         \n",
            " g2D)                                                            \n",
            "                                                                 \n",
            " dropout_2 (Dropout)         (None, 23, 23, 64)        0         \n",
            "                                                                 \n",
            " conv2d_3 (Conv2D)           (None, 21, 21, 64)        36928     \n",
            "                                                                 \n",
            " batch_normalization_3 (Bat  (None, 21, 21, 64)        256       \n",
            " chNormalization)                                                \n",
            "                                                                 \n",
            " max_pooling2d_3 (MaxPoolin  (None, 10, 10, 64)        0         \n",
            " g2D)                                                            \n",
            "                                                                 \n",
            " dropout_3 (Dropout)         (None, 10, 10, 64)        0         \n",
            "                                                                 \n",
            " flatten_8 (Flatten)         (None, 6400)              0         \n",
            "                                                                 \n",
            " dense_9 (Dense)             (None, 512)               3277312   \n",
            "                                                                 \n",
            " dense_10 (Dense)            (None, 128)               65664     \n",
            "                                                                 \n",
            " dropout_4 (Dropout)         (None, 128)               0         \n",
            "                                                                 \n",
            " dense_11 (Dense)            (None, 3)                 387       \n",
            "                                                                 \n",
            "=================================================================\n",
            "Total params: 3409699 (13.01 MB)\n",
            "Trainable params: 3409315 (13.01 MB)\n",
            "Non-trainable params: 384 (1.50 KB)\n",
            "_________________________________________________________________\n"
          ]
        }
      ],
      "source": [
        "classifier.summary()"
      ]
    },
    {
      "cell_type": "code",
      "execution_count": null,
      "metadata": {
        "colab": {
          "base_uri": "https://localhost:8080/"
        },
        "id": "qWrj7deNUgFP",
        "outputId": "22606612-df58-48d1-e23d-8ac8f492ef29"
      },
      "outputs": [
        {
          "name": "stderr",
          "output_type": "stream",
          "text": [
            "<ipython-input-58-d303d9e1f097>:9: UserWarning: `Model.fit_generator` is deprecated and will be removed in a future version. Please use `Model.fit`, which supports generators.\n",
            "  history= classifier.fit_generator(\n"
          ]
        },
        {
          "name": "stdout",
          "output_type": "stream",
          "text": [
            "Epoch 1/30\n",
            "32/32 [==============================] - 99s 3s/step - loss: 1.9469 - categorical_accuracy: 0.4951 - val_loss: 7.8426 - val_categorical_accuracy: 0.4736\n",
            "Epoch 2/30\n",
            "32/32 [==============================] - 88s 3s/step - loss: 0.8153 - categorical_accuracy: 0.6418 - val_loss: 4.0708 - val_categorical_accuracy: 0.4712\n",
            "Epoch 3/30\n",
            "32/32 [==============================] - 85s 3s/step - loss: 0.7374 - categorical_accuracy: 0.6798 - val_loss: 4.3397 - val_categorical_accuracy: 0.4748\n",
            "Epoch 4/30\n",
            "32/32 [==============================] - 88s 3s/step - loss: 0.7211 - categorical_accuracy: 0.6866 - val_loss: 3.0690 - val_categorical_accuracy: 0.2885\n",
            "Epoch 5/30\n",
            "32/32 [==============================] - 88s 3s/step - loss: 0.7011 - categorical_accuracy: 0.6924 - val_loss: 2.3516 - val_categorical_accuracy: 0.4700\n",
            "Epoch 6/30\n",
            "32/32 [==============================] - 88s 3s/step - loss: 0.7059 - categorical_accuracy: 0.6912 - val_loss: 3.0182 - val_categorical_accuracy: 0.4772\n",
            "Epoch 7/30\n",
            "32/32 [==============================] - 84s 3s/step - loss: 0.6935 - categorical_accuracy: 0.7080 - val_loss: 3.4716 - val_categorical_accuracy: 0.4712\n",
            "Epoch 8/30\n",
            "32/32 [==============================] - 83s 3s/step - loss: 0.6593 - categorical_accuracy: 0.7327 - val_loss: 2.9918 - val_categorical_accuracy: 0.4772\n",
            "Epoch 9/30\n",
            "32/32 [==============================] - 88s 3s/step - loss: 0.6366 - categorical_accuracy: 0.7405 - val_loss: 2.7725 - val_categorical_accuracy: 0.4730\n",
            "Epoch 10/30\n",
            "32/32 [==============================] - 88s 3s/step - loss: 0.6660 - categorical_accuracy: 0.7279 - val_loss: 3.5668 - val_categorical_accuracy: 0.4754\n",
            "Epoch 11/30\n",
            "32/32 [==============================] - 86s 3s/step - loss: 0.6604 - categorical_accuracy: 0.7264 - val_loss: 2.7468 - val_categorical_accuracy: 0.4754\n",
            "Epoch 12/30\n",
            "32/32 [==============================] - 85s 3s/step - loss: 0.6279 - categorical_accuracy: 0.7375 - val_loss: 3.3884 - val_categorical_accuracy: 0.4754\n",
            "Epoch 13/30\n",
            "32/32 [==============================] - 88s 3s/step - loss: 0.6147 - categorical_accuracy: 0.7501 - val_loss: 2.4680 - val_categorical_accuracy: 0.4760\n",
            "Epoch 14/30\n",
            "32/32 [==============================] - 89s 3s/step - loss: 0.6000 - categorical_accuracy: 0.7518 - val_loss: 3.0791 - val_categorical_accuracy: 0.4808\n",
            "Epoch 15/30\n",
            "32/32 [==============================] - 89s 3s/step - loss: 0.6178 - categorical_accuracy: 0.7395 - val_loss: 3.1592 - val_categorical_accuracy: 0.4748\n",
            "Epoch 16/30\n",
            "32/32 [==============================] - 88s 3s/step - loss: 0.6114 - categorical_accuracy: 0.7551 - val_loss: 4.3556 - val_categorical_accuracy: 0.4796\n",
            "Epoch 17/30\n",
            "32/32 [==============================] - 88s 3s/step - loss: 0.5865 - categorical_accuracy: 0.7715 - val_loss: 4.9348 - val_categorical_accuracy: 0.4790\n",
            "Epoch 18/30\n",
            "32/32 [==============================] - 89s 3s/step - loss: 0.5932 - categorical_accuracy: 0.7621 - val_loss: 3.0890 - val_categorical_accuracy: 0.4724\n",
            "Epoch 19/30\n",
            "32/32 [==============================] - 88s 3s/step - loss: 0.6015 - categorical_accuracy: 0.7629 - val_loss: 3.1046 - val_categorical_accuracy: 0.4736\n",
            "Epoch 20/30\n",
            "32/32 [==============================] - 88s 3s/step - loss: 0.6030 - categorical_accuracy: 0.7521 - val_loss: 1.0913 - val_categorical_accuracy: 0.5733\n",
            "Epoch 21/30\n",
            "32/32 [==============================] - 89s 3s/step - loss: 0.5862 - categorical_accuracy: 0.7637 - val_loss: 4.1528 - val_categorical_accuracy: 0.4802\n",
            "Epoch 22/30\n",
            "32/32 [==============================] - 89s 3s/step - loss: 0.5729 - categorical_accuracy: 0.7707 - val_loss: 1.4557 - val_categorical_accuracy: 0.5054\n",
            "Epoch 23/30\n",
            "32/32 [==============================] - 84s 3s/step - loss: 0.6114 - categorical_accuracy: 0.7548 - val_loss: 3.4672 - val_categorical_accuracy: 0.4778\n",
            "Epoch 24/30\n",
            "32/32 [==============================] - 88s 3s/step - loss: 0.5812 - categorical_accuracy: 0.7720 - val_loss: 2.7581 - val_categorical_accuracy: 0.4784\n",
            "Epoch 25/30\n",
            "32/32 [==============================] - 87s 3s/step - loss: 0.5956 - categorical_accuracy: 0.7561 - val_loss: 0.6585 - val_categorical_accuracy: 0.7013\n",
            "Epoch 26/30\n",
            "32/32 [==============================] - 84s 3s/step - loss: 0.6039 - categorical_accuracy: 0.7498 - val_loss: 0.5943 - val_categorical_accuracy: 0.7452\n",
            "Epoch 27/30\n",
            "32/32 [==============================] - 87s 3s/step - loss: 0.5917 - categorical_accuracy: 0.7574 - val_loss: 1.3301 - val_categorical_accuracy: 0.4850\n",
            "Epoch 28/30\n",
            "32/32 [==============================] - 87s 3s/step - loss: 0.5731 - categorical_accuracy: 0.7742 - val_loss: 0.5926 - val_categorical_accuracy: 0.7734\n",
            "Epoch 29/30\n",
            "32/32 [==============================] - 87s 3s/step - loss: 0.5879 - categorical_accuracy: 0.7699 - val_loss: 1.1434 - val_categorical_accuracy: 0.3137\n",
            "Epoch 30/30\n",
            "32/32 [==============================] - 88s 3s/step - loss: 0.5738 - categorical_accuracy: 0.7679 - val_loss: 0.6413 - val_categorical_accuracy: 0.7338\n"
          ]
        }
      ],
      "source": [
        "classifier.compile(loss=\"categorical_crossentropy\",\n",
        "              optimizer=\"adam\",\n",
        "              metrics=[\"categorical_accuracy\"])\n",
        "\n",
        "total_sample=train_generator.n\n",
        "total_test=test_generator.n\n",
        "batch_size=128\n",
        "\n",
        "history= classifier.fit_generator(\n",
        "            train_generator, steps_per_epoch=int(total_sample/batch_size),\n",
        "            epochs=30,\n",
        "            validation_data=test_generator,\n",
        "            validation_steps=int(total_test/batch_size))"
      ]
    },
    {
      "cell_type": "code",
      "execution_count": null,
      "metadata": {
        "colab": {
          "base_uri": "https://localhost:8080/"
        },
        "id": "sXGByDmeUmeQ",
        "outputId": "62a2092f-a92e-4339-8a0a-8fd07a69a24d"
      },
      "outputs": [
        {
          "name": "stdout",
          "output_type": "stream",
          "text": [
            "33/33 [==============================] - 72s 2s/step - loss: 0.8755 - categorical_accuracy: 0.6811\n",
            "\n",
            " Train Accuracy: 0.6810534000396729\n",
            "\n",
            " Train Loss: 0.8755427002906799\n"
          ]
        }
      ],
      "source": [
        "# Train Loss/ Train Accuracy\n",
        "train_loss, train_acc = classifier.evaluate(train_generator)\n",
        "print(\"\\n Train Accuracy:\", train_acc)\n",
        "print(\"\\n Train Loss:\", train_loss)"
      ]
    }
  ],
  "metadata": {
    "accelerator": "GPU",
    "colab": {
      "gpuType": "T4",
      "provenance": []
    },
    "kernelspec": {
      "display_name": "Python 3",
      "name": "python3"
    },
    "language_info": {
      "name": "python"
    }
  },
  "nbformat": 4,
  "nbformat_minor": 0
}
