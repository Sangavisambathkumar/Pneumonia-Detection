{
 "cells": [
  {
   "cell_type": "code",
   "execution_count": 12,
   "metadata": {
    "colab": {
     "base_uri": "https://localhost:8080/"
    },
    "id": "otkIIwy3zkJF",
    "outputId": "80cb0688-9316-41c4-f75d-b1718bb5708a"
   },
   "outputs": [
    {
     "name": "stdout",
     "output_type": "stream",
     "text": [
      "Downloading data from https://storage.googleapis.com/tensorflow/keras-applications/vgg16/vgg16_weights_tf_dim_ordering_tf_kernels_notop.h5\n",
      "58889256/58889256 [==============================] - 0s 0us/step\n",
      "Epoch 1/30\n"
     ]
    },
    {
     "name": "stderr",
     "output_type": "stream",
     "text": [
      "/usr/local/lib/python3.10/dist-packages/keras/src/backend.py:5575: UserWarning: \"`categorical_crossentropy` received `from_logits=True`, but the `output` argument was produced by a Softmax activation and thus does not represent logits. Was this intended?\n",
      "  output, from_logits = _get_logits(\n"
     ]
    },
    {
     "name": "stdout",
     "output_type": "stream",
     "text": [
      "33/33 [==============================] - 131s 3s/step - loss: 1.8493 - accuracy: 0.3187 - val_loss: 0.9352 - val_accuracy: 0.5100\n",
      "Epoch 2/30\n",
      "33/33 [==============================] - 97s 3s/step - loss: 0.9538 - accuracy: 0.5282 - val_loss: 0.7885 - val_accuracy: 0.6610\n",
      "Epoch 3/30\n",
      "33/33 [==============================] - 97s 3s/step - loss: 0.8697 - accuracy: 0.6230 - val_loss: 0.7835 - val_accuracy: 0.6752\n",
      "Epoch 4/30\n",
      "33/33 [==============================] - 98s 3s/step - loss: 0.7870 - accuracy: 0.6072 - val_loss: 0.7510 - val_accuracy: 0.6553\n",
      "Epoch 5/30\n",
      "33/33 [==============================] - 97s 3s/step - loss: 0.7200 - accuracy: 0.6950 - val_loss: 0.6352 - val_accuracy: 0.7425\n",
      "Epoch 6/30\n",
      "33/33 [==============================] - 97s 3s/step - loss: 0.7765 - accuracy: 0.6376 - val_loss: 0.6860 - val_accuracy: 0.6974\n",
      "Epoch 7/30\n",
      "33/33 [==============================] - 98s 3s/step - loss: 0.6795 - accuracy: 0.7132 - val_loss: 0.7202 - val_accuracy: 0.6912\n",
      "Epoch 8/30\n",
      "33/33 [==============================] - 98s 3s/step - loss: 0.6823 - accuracy: 0.7171 - val_loss: 0.8499 - val_accuracy: 0.6353\n",
      "Epoch 9/30\n",
      "33/33 [==============================] - 97s 3s/step - loss: 0.6853 - accuracy: 0.7164 - val_loss: 0.7210 - val_accuracy: 0.6969\n",
      "Epoch 10/30\n",
      "33/33 [==============================] - 97s 3s/step - loss: 0.6234 - accuracy: 0.7449 - val_loss: 0.6628 - val_accuracy: 0.7299\n",
      "Epoch 11/30\n",
      "33/33 [==============================] - 97s 3s/step - loss: 0.6505 - accuracy: 0.7242 - val_loss: 0.6637 - val_accuracy: 0.7259\n",
      "Epoch 12/30\n",
      "33/33 [==============================] - 98s 3s/step - loss: 0.6517 - accuracy: 0.7262 - val_loss: 0.7032 - val_accuracy: 0.7105\n",
      "Epoch 13/30\n",
      "33/33 [==============================] - 97s 3s/step - loss: 0.5950 - accuracy: 0.7632 - val_loss: 0.6317 - val_accuracy: 0.7442\n",
      "Epoch 14/30\n",
      "33/33 [==============================] - 98s 3s/step - loss: 0.5980 - accuracy: 0.7532 - val_loss: 0.5986 - val_accuracy: 0.7499\n",
      "Epoch 15/30\n",
      "33/33 [==============================] - 98s 3s/step - loss: 0.5720 - accuracy: 0.7635 - val_loss: 0.6746 - val_accuracy: 0.7288\n",
      "Epoch 16/30\n",
      "33/33 [==============================] - 100s 3s/step - loss: 0.5797 - accuracy: 0.7601 - val_loss: 0.6609 - val_accuracy: 0.7350\n",
      "Epoch 17/30\n",
      "33/33 [==============================] - 98s 3s/step - loss: 0.5541 - accuracy: 0.7744 - val_loss: 0.6427 - val_accuracy: 0.7436\n",
      "Epoch 18/30\n",
      "33/33 [==============================] - 97s 3s/step - loss: 0.5576 - accuracy: 0.7749 - val_loss: 0.6802 - val_accuracy: 0.7259\n",
      "Epoch 19/30\n",
      "33/33 [==============================] - 97s 3s/step - loss: 0.5882 - accuracy: 0.7564 - val_loss: 0.7364 - val_accuracy: 0.7088\n",
      "Epoch 20/30\n",
      "33/33 [==============================] - 97s 3s/step - loss: 0.6146 - accuracy: 0.7462 - val_loss: 0.7387 - val_accuracy: 0.7026\n",
      "Epoch 21/30\n",
      "33/33 [==============================] - 97s 3s/step - loss: 0.5772 - accuracy: 0.7688 - val_loss: 0.5887 - val_accuracy: 0.7595\n",
      "Epoch 22/30\n",
      "33/33 [==============================] - 98s 3s/step - loss: 0.5624 - accuracy: 0.7615 - val_loss: 0.6124 - val_accuracy: 0.7504\n",
      "Epoch 23/30\n",
      "33/33 [==============================] - 97s 3s/step - loss: 0.5492 - accuracy: 0.7774 - val_loss: 0.5957 - val_accuracy: 0.7630\n",
      "Epoch 24/30\n",
      "33/33 [==============================] - 97s 3s/step - loss: 0.5564 - accuracy: 0.7723 - val_loss: 0.6532 - val_accuracy: 0.7419\n",
      "Epoch 25/30\n",
      "33/33 [==============================] - 101s 3s/step - loss: 0.5329 - accuracy: 0.7842 - val_loss: 0.7478 - val_accuracy: 0.7060\n",
      "Epoch 26/30\n",
      "33/33 [==============================] - 97s 3s/step - loss: 0.5713 - accuracy: 0.7632 - val_loss: 0.7438 - val_accuracy: 0.7043\n",
      "Epoch 27/30\n",
      "33/33 [==============================] - 98s 3s/step - loss: 0.5356 - accuracy: 0.7798 - val_loss: 0.6623 - val_accuracy: 0.7385\n",
      "Epoch 28/30\n",
      "33/33 [==============================] - 98s 3s/step - loss: 0.6161 - accuracy: 0.7605 - val_loss: 0.6724 - val_accuracy: 0.7322\n",
      "Epoch 29/30\n",
      "33/33 [==============================] - 98s 3s/step - loss: 0.5582 - accuracy: 0.7771 - val_loss: 0.5761 - val_accuracy: 0.7670\n",
      "Epoch 30/30\n",
      "33/33 [==============================] - 98s 3s/step - loss: 0.5294 - accuracy: 0.7883 - val_loss: 0.7025 - val_accuracy: 0.7293\n"
     ]
    }
   ],
   "source": [
    "VGG16_classifier=VGG16(weights=\"imagenet\", include_top=False, input_tensor=Input(shape=(img_height, img_width, 3)))\n",
    "\n",
    "for layer in VGG16_classifier.layers:\n",
    "    layer.trainable=False\n",
    "\n",
    "with tf.device(device):\n",
    "  VGG16_model = tf.keras.Sequential([\n",
    "                                     VGG16_classifier,\n",
    "                                     MaxPooling2D(),\n",
    "                                     Dense(img_height, activation='relu'),\n",
    "                                     Flatten(),\n",
    "                                     Dense(3, activation='softmax')\n",
    "                                     ])\n",
    "\n",
    "  callback = tf.keras.callbacks.EarlyStopping(monitor='val_loss', patience=10)\n",
    "\n",
    "\n",
    "  VGG16_model.compile(\n",
    "      optimizer='adam',\n",
    "      loss=tf.losses.CategoricalCrossentropy(from_logits=True),\n",
    "      metrics=['accuracy']\n",
    "      )\n",
    "\n",
    "  VGG16_model_history = VGG16_model.fit(\n",
    "      train_generator,\n",
    "      validation_data=val_generator,\n",
    "      epochs=30,\n",
    "      verbose=1,\n",
    "      callbacks=[callback])"
   ]
  },
  {
   "cell_type": "code",
   "execution_count": 13,
   "metadata": {
    "colab": {
     "base_uri": "https://localhost:8080/"
    },
    "id": "ET51ChMOzkKb",
    "outputId": "9e988289-a396-42c1-a55a-ce50a2955e45"
   },
   "outputs": [
    {
     "name": "stdout",
     "output_type": "stream",
     "text": [
      "Mounted at /content/drive\n"
     ]
    }
   ],
   "source": [
    "from google.colab import drive\n",
    "drive.mount('/content/drive')"
   ]
  },
  {
   "cell_type": "code",
   "execution_count": 14,
   "metadata": {
    "id": "UaGtnhE-zJ3c"
   },
   "outputs": [],
   "source": [
    "VGG16_model_history_df = pd.DataFrame(VGG16_model_history.history)\n",
    "VGG16_model_history_df.to_csv('/content/drive/MyDrive/history.csv')"
   ]
  }
 ],
 "metadata": {
  "accelerator": "GPU",
  "colab": {
   "gpuType": "T4",
   "provenance": []
  },
  "kernelspec": {
   "display_name": "Python 3 (ipykernel)",
   "language": "python",
   "name": "python3"
  },
  "language_info": {
   "codemirror_mode": {
    "name": "ipython",
    "version": 3
   },
   "file_extension": ".py",
   "mimetype": "text/x-python",
   "name": "python",
   "nbconvert_exporter": "python",
   "pygments_lexer": "ipython3",
   "version": "3.11.5"
  }
 },
 "nbformat": 4,
 "nbformat_minor": 4
}
